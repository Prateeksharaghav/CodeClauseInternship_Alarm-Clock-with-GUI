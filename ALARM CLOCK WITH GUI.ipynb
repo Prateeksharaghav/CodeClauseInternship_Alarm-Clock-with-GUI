{
 "cells": [
  {
   "cell_type": "markdown",
   "id": "07a98a67",
   "metadata": {},
   "source": [
    "# ALARM CLOCK WITH GUI"
   ]
  },
  {
   "cell_type": "markdown",
   "id": "656ed7fd",
   "metadata": {},
   "source": [
    "# IMPORTING LIBRARIES"
   ]
  },
  {
   "cell_type": "code",
   "execution_count": 1,
   "id": "649246bc",
   "metadata": {},
   "outputs": [],
   "source": [
    "from tkinter import *\n",
    "import datetime\n",
    "import time\n",
    "import winsound"
   ]
  },
  {
   "cell_type": "markdown",
   "id": "ba4df420",
   "metadata": {},
   "source": [
    "# CREATE A WHILE LOOP"
   ]
  },
  {
   "cell_type": "code",
   "execution_count": 2,
   "id": "9c5fd0ce",
   "metadata": {},
   "outputs": [],
   "source": [
    "def alarm(set_alarm_timer):\n",
    "    while True:\n",
    "        time.sleep(1)\n",
    "        current_time = datetime.datetime.now()\n",
    "        now = current_time.strftime(\"%H:%M:%S\")\n",
    "        date = current_time.strftime(\"%d/%m/%Y\")\n",
    "        print(\"The Set Date is:\",date)\n",
    "        print(now)\n",
    "        if now == set_alarm_timer:\n",
    "            print(\"Time to Wake up\")\n",
    "        winsound.PlaySound(\"sound.wav\",winsound.SND_ASYNC)\n",
    "        break\n",
    "        \n",
    "def actual_time():\n",
    "    set_alarm_timer = f\"{hour.get()}:{min.get()}:{sec.get()}\"\n",
    "    alarm(set_alarm_timer)"
   ]
  },
  {
   "cell_type": "markdown",
   "id": "d90242e0",
   "metadata": {},
   "source": [
    "# CREATING GUI USING TKINTER"
   ]
  },
  {
   "cell_type": "code",
   "execution_count": 3,
   "id": "00463227",
   "metadata": {},
   "outputs": [
    {
     "name": "stdout",
     "output_type": "stream",
     "text": [
      "The Set Date is: 04/08/2023\n",
      "13:53:10\n",
      "The Set Date is: 04/08/2023\n",
      "13:53:14\n"
     ]
    }
   ],
   "source": [
    "clock = Tk()\n",
    "\n",
    "clock.title(\"DataFlair Alarm Clock\")\n",
    "clock.geometry(\"400x200\")\n",
    "time_format=Label(clock, text= \"Enter time in 24 hour format!\", fg=\"red\",bg=\"black\",font=\"Arial\").place(x=60,y=120)\n",
    "addTime = Label(clock,text = \"Hour  Min   Sec\",font=60).place(x = 110)\n",
    "setYourAlarm = Label(clock,text = \"When to wake you up\",fg=\"blue\",relief = \"solid\",font=(\"Helevetica\",7,\"bold\")).place(x=0, y=29)\n",
    "\n",
    "# The Variables we require to set the alarm(initialization):\n",
    "hour = StringVar()\n",
    "min = StringVar()\n",
    "sec = StringVar()\n",
    "\n",
    "#Time required to set the alarm clock:\n",
    "hourTime= Entry(clock,textvariable = hour,bg = \"pink\",width = 15).place(x=110,y=30)\n",
    "minTime= Entry(clock,textvariable = min,bg = \"pink\",width = 15).place(x=150,y=30)\n",
    "secTime = Entry(clock,textvariable = sec,bg = \"pink\",width = 15).place(x=200,y=30)\n",
    "\n",
    "#To take the time input by user:\n",
    "submit = Button(clock,text = \"Set Alarm\",fg=\"red\",width = 10,command = actual_time).place(x =110,y=70)\n",
    "clock.mainloop()\n",
    "\n"
   ]
  },
  {
   "cell_type": "markdown",
   "id": "6cc616e0",
   "metadata": {},
   "source": [
    "# EXECUTION OF THE WINDOW"
   ]
  },
  {
   "cell_type": "code",
   "execution_count": null,
   "id": "7d8807d4",
   "metadata": {},
   "outputs": [],
   "source": []
  }
 ],
 "metadata": {
  "kernelspec": {
   "display_name": "Python 3 (ipykernel)",
   "language": "python",
   "name": "python3"
  },
  "language_info": {
   "codemirror_mode": {
    "name": "ipython",
    "version": 3
   },
   "file_extension": ".py",
   "mimetype": "text/x-python",
   "name": "python",
   "nbconvert_exporter": "python",
   "pygments_lexer": "ipython3",
   "version": "3.9.12"
  }
 },
 "nbformat": 4,
 "nbformat_minor": 5
}
